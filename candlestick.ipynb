{
  "nbformat": 4,
  "nbformat_minor": 0,
  "metadata": {
    "colab": {
      "name": "candlestick.ipynb",
      "provenance": [],
      "authorship_tag": "ABX9TyNQd+oADD7FF2h/Vxg4Q+vX",
      "include_colab_link": true
    },
    "kernelspec": {
      "name": "python3",
      "display_name": "Python 3"
    },
    "language_info": {
      "name": "python"
    }
  },
  "cells": [
    {
      "cell_type": "markdown",
      "metadata": {
        "id": "view-in-github",
        "colab_type": "text"
      },
      "source": [
        "<a href=\"https://colab.research.google.com/github/anguslou/Candlestick/blob/main/candlestick.ipynb\" target=\"_parent\"><img src=\"https://colab.research.google.com/assets/colab-badge.svg\" alt=\"Open In Colab\"/></a>"
      ]
    },
    {
      "cell_type": "code",
      "execution_count": null,
      "metadata": {
        "id": "GAncelFJO8B9"
      },
      "outputs": [],
      "source": [
        "import talib\n",
        "import yfinance as yf\n",
        "from datetime import date\n",
        "\n",
        "today = date.today().strftime(\"%Y-%m-%d\")\n",
        "stockticker = '^BSESN'\n",
        "dataframe = yf.download(stockticker, start='2021-03-31', end=today)\n",
        "\n",
        "open = dataframe['Open']\n",
        "high = dataframe['High']\n",
        "low = dataframe['Low']\n",
        "close = dataframe['Adj Close']\n",
        "\n",
        "threeLineStrike = talib.CDL3LINESTRIKE(open,high,low,close)\n",
        "threeBlackCrow = talib.CDL3BLACKCROWS(open,high,low,close)\n",
        "eveningStar = talib.CDLEVENINGSTAR(open,high,low,close)\n",
        "engulfing = talib.CDLENGULFING(open,high,low,close)\n",
        "dragonflyDoji = talib.CDLDRAGONFLYDOJI(open,high,low,close)\n",
        "gravestoneDoji = talib.CDLGRAVESTONEDOJI(open,high,low,close)\n",
        "tasukigap = talib.CDLTASUKIGAP(open,high,low,close)\n",
        "hammer = talib.CDLHAMMER(open,high,low,close)\n",
        "darkCloudCover = talib.CDLDARKCLOUDCOVER(open,high,low,close)\n",
        "piercingLine = talib.CDLPIERCING(open,high,low,close)\n",
        "\n",
        "\n",
        "dataframe['3 Line Strike'] = threeLineStrike\n",
        "dataframe['3 Black Crow'] = threeBlackCrow\n",
        "dataframe['Evening Star'] = eveningStar\n",
        "dataframe['Engulfing'] = engulfing\n",
        "dataframe['Dragonfly Doji'] = dragonflyDoji\n",
        "dataframe['Gravestone Doji'] = gravestoneDoji\n",
        "dataframe['Tasuki Gap'] = tasukigap\n",
        "dataframe['Hammer'] = hammer\n",
        "dataframe['DarkCloudCover'] = darkCloudCover\n",
        "dataframe['Piercing Line'] = piercingLine\n",
        "\n",
        "\n",
        "topCandles = [\"3 Line Strike\",\"3 Black Crow\",\"Evening Star\",\"Engulfing\",\"Dragonfly Doji\",\"Gravestone Doji\",\"Tasuki Gap\",\"Hammer\",\"DarkCloudCover\",\"Piercing Line\"]\n",
        "\n",
        "\n",
        "for x in dataframe.index:\n",
        "    for cd in topCandles:\n",
        "        if dataframe.loc[x, cd] == -100:\n",
        "            dataframe.loc[x, cd] = \"Bearish\"\n",
        "        if dataframe.loc[x, cd] == 100:\n",
        "            dataframe.loc[x, cd] = \"Bullish\"\n",
        "\n",
        "dataframe.drop('Open', axis=1, inplace=True)\n",
        "dataframe.drop('High', axis=1, inplace=True)\n",
        "dataframe.drop('Low', axis=1, inplace=True)\n",
        "dataframe.drop('Close', axis=1, inplace=True)\n",
        "dataframe.drop('Adj Close', axis=1, inplace=True)\n",
        "dataframe.drop('Volume', axis=1, inplace=True)\n",
        "\n",
        "dataframe.to_csv(\"dataf.csv\")"
      ]
    }
  ]
}